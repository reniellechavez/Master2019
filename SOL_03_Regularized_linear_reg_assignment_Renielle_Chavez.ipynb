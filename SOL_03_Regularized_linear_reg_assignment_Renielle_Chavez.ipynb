{
  "nbformat": 4,
  "nbformat_minor": 0,
  "metadata": {
    "kernelspec": {
      "display_name": "Python 3",
      "language": "python",
      "name": "python3"
    },
    "language_info": {
      "codemirror_mode": {
        "name": "ipython",
        "version": 3
      },
      "file_extension": ".py",
      "mimetype": "text/x-python",
      "name": "python",
      "nbconvert_exporter": "python",
      "pygments_lexer": "ipython3",
      "version": "3.6.8"
    },
    "colab": {
      "name": "03_Regularized_linear_reg_assignment.ipynb",
      "provenance": []
    }
  },
  "cells": [
    {
      "cell_type": "markdown",
      "metadata": {
        "id": "_Olj-B9AMpSx",
        "colab_type": "text"
      },
      "source": [
        "# Regression with regularization"
      ]
    },
    {
      "cell_type": "markdown",
      "metadata": {
        "id": "kr-OV0YiMpS0",
        "colab_type": "text"
      },
      "source": [
        "#### We will using the Boston Housing Dataset available in sklearn and we will extend it with  5 additional features of random noise to test each algorithm’s ability to filter out irrelevant information:\n",
        "\n",
        "- **Examine the results of applying Linear Regression, Lasso Regression, Ridge Regression and Elastic Net on the features scores**\n",
        "- **Try to modify the hyperparameters lambda and describe how it affects the parmeter scores**"
      ]
    },
    {
      "cell_type": "markdown",
      "metadata": {
        "id": "2X7ZWQXyMpS0",
        "colab_type": "text"
      },
      "source": [
        "### Import libraries and dataset from sklearn"
      ]
    },
    {
      "cell_type": "code",
      "metadata": {
        "id": "DIBXTRdnMpS1",
        "colab_type": "code",
        "colab": {
          "base_uri": "https://localhost:8080/",
          "height": 202
        },
        "outputId": "4a086919-ed65-4bd8-94bf-3600440485d4"
      },
      "source": [
        "import matplotlib.pyplot as plt\n",
        "import numpy as np \n",
        "import pandas as pd\n",
        "import matplotlib\n",
        "matplotlib.rcParams.update({'font.size': 12})\n",
        "from sklearn.datasets import load_boston\n",
        "from sklearn.model_selection import train_test_split\n",
        "from sklearn.linear_model import LinearRegression\n",
        "from sklearn.linear_model import Ridge\n",
        "from sklearn import metrics\n",
        "from sklearn.metrics import mean_squared_error\n",
        "\n",
        "boston=load_boston()\n",
        "boston_df=pd.DataFrame(boston.data,columns=boston.feature_names)\n",
        "\n",
        "boston_df.head()"
      ],
      "execution_count": 5,
      "outputs": [
        {
          "output_type": "execute_result",
          "data": {
            "text/html": [
              "<div>\n",
              "<style scoped>\n",
              "    .dataframe tbody tr th:only-of-type {\n",
              "        vertical-align: middle;\n",
              "    }\n",
              "\n",
              "    .dataframe tbody tr th {\n",
              "        vertical-align: top;\n",
              "    }\n",
              "\n",
              "    .dataframe thead th {\n",
              "        text-align: right;\n",
              "    }\n",
              "</style>\n",
              "<table border=\"1\" class=\"dataframe\">\n",
              "  <thead>\n",
              "    <tr style=\"text-align: right;\">\n",
              "      <th></th>\n",
              "      <th>CRIM</th>\n",
              "      <th>ZN</th>\n",
              "      <th>INDUS</th>\n",
              "      <th>CHAS</th>\n",
              "      <th>NOX</th>\n",
              "      <th>RM</th>\n",
              "      <th>AGE</th>\n",
              "      <th>DIS</th>\n",
              "      <th>RAD</th>\n",
              "      <th>TAX</th>\n",
              "      <th>PTRATIO</th>\n",
              "      <th>B</th>\n",
              "      <th>LSTAT</th>\n",
              "    </tr>\n",
              "  </thead>\n",
              "  <tbody>\n",
              "    <tr>\n",
              "      <th>0</th>\n",
              "      <td>0.00632</td>\n",
              "      <td>18.0</td>\n",
              "      <td>2.31</td>\n",
              "      <td>0.0</td>\n",
              "      <td>0.538</td>\n",
              "      <td>6.575</td>\n",
              "      <td>65.2</td>\n",
              "      <td>4.0900</td>\n",
              "      <td>1.0</td>\n",
              "      <td>296.0</td>\n",
              "      <td>15.3</td>\n",
              "      <td>396.90</td>\n",
              "      <td>4.98</td>\n",
              "    </tr>\n",
              "    <tr>\n",
              "      <th>1</th>\n",
              "      <td>0.02731</td>\n",
              "      <td>0.0</td>\n",
              "      <td>7.07</td>\n",
              "      <td>0.0</td>\n",
              "      <td>0.469</td>\n",
              "      <td>6.421</td>\n",
              "      <td>78.9</td>\n",
              "      <td>4.9671</td>\n",
              "      <td>2.0</td>\n",
              "      <td>242.0</td>\n",
              "      <td>17.8</td>\n",
              "      <td>396.90</td>\n",
              "      <td>9.14</td>\n",
              "    </tr>\n",
              "    <tr>\n",
              "      <th>2</th>\n",
              "      <td>0.02729</td>\n",
              "      <td>0.0</td>\n",
              "      <td>7.07</td>\n",
              "      <td>0.0</td>\n",
              "      <td>0.469</td>\n",
              "      <td>7.185</td>\n",
              "      <td>61.1</td>\n",
              "      <td>4.9671</td>\n",
              "      <td>2.0</td>\n",
              "      <td>242.0</td>\n",
              "      <td>17.8</td>\n",
              "      <td>392.83</td>\n",
              "      <td>4.03</td>\n",
              "    </tr>\n",
              "    <tr>\n",
              "      <th>3</th>\n",
              "      <td>0.03237</td>\n",
              "      <td>0.0</td>\n",
              "      <td>2.18</td>\n",
              "      <td>0.0</td>\n",
              "      <td>0.458</td>\n",
              "      <td>6.998</td>\n",
              "      <td>45.8</td>\n",
              "      <td>6.0622</td>\n",
              "      <td>3.0</td>\n",
              "      <td>222.0</td>\n",
              "      <td>18.7</td>\n",
              "      <td>394.63</td>\n",
              "      <td>2.94</td>\n",
              "    </tr>\n",
              "    <tr>\n",
              "      <th>4</th>\n",
              "      <td>0.06905</td>\n",
              "      <td>0.0</td>\n",
              "      <td>2.18</td>\n",
              "      <td>0.0</td>\n",
              "      <td>0.458</td>\n",
              "      <td>7.147</td>\n",
              "      <td>54.2</td>\n",
              "      <td>6.0622</td>\n",
              "      <td>3.0</td>\n",
              "      <td>222.0</td>\n",
              "      <td>18.7</td>\n",
              "      <td>396.90</td>\n",
              "      <td>5.33</td>\n",
              "    </tr>\n",
              "  </tbody>\n",
              "</table>\n",
              "</div>"
            ],
            "text/plain": [
              "      CRIM    ZN  INDUS  CHAS    NOX  ...  RAD    TAX  PTRATIO       B  LSTAT\n",
              "0  0.00632  18.0   2.31   0.0  0.538  ...  1.0  296.0     15.3  396.90   4.98\n",
              "1  0.02731   0.0   7.07   0.0  0.469  ...  2.0  242.0     17.8  396.90   9.14\n",
              "2  0.02729   0.0   7.07   0.0  0.469  ...  2.0  242.0     17.8  392.83   4.03\n",
              "3  0.03237   0.0   2.18   0.0  0.458  ...  3.0  222.0     18.7  394.63   2.94\n",
              "4  0.06905   0.0   2.18   0.0  0.458  ...  3.0  222.0     18.7  396.90   5.33\n",
              "\n",
              "[5 rows x 13 columns]"
            ]
          },
          "metadata": {
            "tags": []
          },
          "execution_count": 5
        }
      ]
    },
    {
      "cell_type": "markdown",
      "metadata": {
        "id": "rQhLHtmlMpS6",
        "colab_type": "text"
      },
      "source": [
        "### Add Noise to original dataset"
      ]
    },
    {
      "cell_type": "code",
      "metadata": {
        "id": "yBlaWCW9MpTA",
        "colab_type": "code",
        "colab": {}
      },
      "source": [
        "n_houses = boston_df.shape[0]\n",
        "rand_noise = np.random.rand(n_houses, 5)\n",
        "\n",
        "rand_noise_df = pd.DataFrame(data=rand_noise, columns=['Noise_1', 'Noise_2', 'Noise_3', 'Noise_4', 'Noise_5'])\n",
        "X = pd.concat([boston_df, rand_noise_df], axis=1)\n",
        "y = boston['target']"
      ],
      "execution_count": 0,
      "outputs": []
    },
    {
      "cell_type": "code",
      "metadata": {
        "id": "-Rfm7q8SMpTG",
        "colab_type": "code",
        "colab": {
          "base_uri": "https://localhost:8080/",
          "height": 202
        },
        "outputId": "fde6adcd-1b1b-422c-98de-fc28ad908bac"
      },
      "source": [
        "X.head()"
      ],
      "execution_count": 5,
      "outputs": [
        {
          "output_type": "execute_result",
          "data": {
            "text/html": [
              "<div>\n",
              "<style scoped>\n",
              "    .dataframe tbody tr th:only-of-type {\n",
              "        vertical-align: middle;\n",
              "    }\n",
              "\n",
              "    .dataframe tbody tr th {\n",
              "        vertical-align: top;\n",
              "    }\n",
              "\n",
              "    .dataframe thead th {\n",
              "        text-align: right;\n",
              "    }\n",
              "</style>\n",
              "<table border=\"1\" class=\"dataframe\">\n",
              "  <thead>\n",
              "    <tr style=\"text-align: right;\">\n",
              "      <th></th>\n",
              "      <th>CRIM</th>\n",
              "      <th>ZN</th>\n",
              "      <th>INDUS</th>\n",
              "      <th>CHAS</th>\n",
              "      <th>NOX</th>\n",
              "      <th>RM</th>\n",
              "      <th>AGE</th>\n",
              "      <th>DIS</th>\n",
              "      <th>RAD</th>\n",
              "      <th>TAX</th>\n",
              "      <th>PTRATIO</th>\n",
              "      <th>B</th>\n",
              "      <th>LSTAT</th>\n",
              "      <th>Noise_1</th>\n",
              "      <th>Noise_2</th>\n",
              "      <th>Noise_3</th>\n",
              "      <th>Noise_4</th>\n",
              "      <th>Noise_5</th>\n",
              "    </tr>\n",
              "  </thead>\n",
              "  <tbody>\n",
              "    <tr>\n",
              "      <th>0</th>\n",
              "      <td>0.00632</td>\n",
              "      <td>18.0</td>\n",
              "      <td>2.31</td>\n",
              "      <td>0.0</td>\n",
              "      <td>0.538</td>\n",
              "      <td>6.575</td>\n",
              "      <td>65.2</td>\n",
              "      <td>4.0900</td>\n",
              "      <td>1.0</td>\n",
              "      <td>296.0</td>\n",
              "      <td>15.3</td>\n",
              "      <td>396.90</td>\n",
              "      <td>4.98</td>\n",
              "      <td>0.063960</td>\n",
              "      <td>0.288483</td>\n",
              "      <td>0.496590</td>\n",
              "      <td>0.742691</td>\n",
              "      <td>0.654701</td>\n",
              "    </tr>\n",
              "    <tr>\n",
              "      <th>1</th>\n",
              "      <td>0.02731</td>\n",
              "      <td>0.0</td>\n",
              "      <td>7.07</td>\n",
              "      <td>0.0</td>\n",
              "      <td>0.469</td>\n",
              "      <td>6.421</td>\n",
              "      <td>78.9</td>\n",
              "      <td>4.9671</td>\n",
              "      <td>2.0</td>\n",
              "      <td>242.0</td>\n",
              "      <td>17.8</td>\n",
              "      <td>396.90</td>\n",
              "      <td>9.14</td>\n",
              "      <td>0.163854</td>\n",
              "      <td>0.603082</td>\n",
              "      <td>0.537846</td>\n",
              "      <td>0.227678</td>\n",
              "      <td>0.695657</td>\n",
              "    </tr>\n",
              "    <tr>\n",
              "      <th>2</th>\n",
              "      <td>0.02729</td>\n",
              "      <td>0.0</td>\n",
              "      <td>7.07</td>\n",
              "      <td>0.0</td>\n",
              "      <td>0.469</td>\n",
              "      <td>7.185</td>\n",
              "      <td>61.1</td>\n",
              "      <td>4.9671</td>\n",
              "      <td>2.0</td>\n",
              "      <td>242.0</td>\n",
              "      <td>17.8</td>\n",
              "      <td>392.83</td>\n",
              "      <td>4.03</td>\n",
              "      <td>0.414016</td>\n",
              "      <td>0.131313</td>\n",
              "      <td>0.176414</td>\n",
              "      <td>0.380116</td>\n",
              "      <td>0.453162</td>\n",
              "    </tr>\n",
              "    <tr>\n",
              "      <th>3</th>\n",
              "      <td>0.03237</td>\n",
              "      <td>0.0</td>\n",
              "      <td>2.18</td>\n",
              "      <td>0.0</td>\n",
              "      <td>0.458</td>\n",
              "      <td>6.998</td>\n",
              "      <td>45.8</td>\n",
              "      <td>6.0622</td>\n",
              "      <td>3.0</td>\n",
              "      <td>222.0</td>\n",
              "      <td>18.7</td>\n",
              "      <td>394.63</td>\n",
              "      <td>2.94</td>\n",
              "      <td>0.336553</td>\n",
              "      <td>0.804295</td>\n",
              "      <td>0.919580</td>\n",
              "      <td>0.763996</td>\n",
              "      <td>0.607984</td>\n",
              "    </tr>\n",
              "    <tr>\n",
              "      <th>4</th>\n",
              "      <td>0.06905</td>\n",
              "      <td>0.0</td>\n",
              "      <td>2.18</td>\n",
              "      <td>0.0</td>\n",
              "      <td>0.458</td>\n",
              "      <td>7.147</td>\n",
              "      <td>54.2</td>\n",
              "      <td>6.0622</td>\n",
              "      <td>3.0</td>\n",
              "      <td>222.0</td>\n",
              "      <td>18.7</td>\n",
              "      <td>396.90</td>\n",
              "      <td>5.33</td>\n",
              "      <td>0.958171</td>\n",
              "      <td>0.001906</td>\n",
              "      <td>0.298396</td>\n",
              "      <td>0.090095</td>\n",
              "      <td>0.959473</td>\n",
              "    </tr>\n",
              "  </tbody>\n",
              "</table>\n",
              "</div>"
            ],
            "text/plain": [
              "      CRIM    ZN  INDUS  CHAS  ...   Noise_2   Noise_3   Noise_4   Noise_5\n",
              "0  0.00632  18.0   2.31   0.0  ...  0.288483  0.496590  0.742691  0.654701\n",
              "1  0.02731   0.0   7.07   0.0  ...  0.603082  0.537846  0.227678  0.695657\n",
              "2  0.02729   0.0   7.07   0.0  ...  0.131313  0.176414  0.380116  0.453162\n",
              "3  0.03237   0.0   2.18   0.0  ...  0.804295  0.919580  0.763996  0.607984\n",
              "4  0.06905   0.0   2.18   0.0  ...  0.001906  0.298396  0.090095  0.959473\n",
              "\n",
              "[5 rows x 18 columns]"
            ]
          },
          "metadata": {
            "tags": []
          },
          "execution_count": 5
        }
      ]
    },
    {
      "cell_type": "code",
      "metadata": {
        "id": "vxfc5IyhMpTK",
        "colab_type": "code",
        "colab": {
          "base_uri": "https://localhost:8080/",
          "height": 35
        },
        "outputId": "9bb93392-3704-4dde-f631-5f972c3a7b03"
      },
      "source": [
        "y[0:5]"
      ],
      "execution_count": 3,
      "outputs": [
        {
          "output_type": "execute_result",
          "data": {
            "text/plain": [
              "array([24. , 21.6, 34.7, 33.4, 36.2])"
            ]
          },
          "metadata": {
            "tags": []
          },
          "execution_count": 3
        }
      ]
    },
    {
      "cell_type": "markdown",
      "metadata": {
        "id": "4dGXjrjYMpTP",
        "colab_type": "text"
      },
      "source": [
        "### Implement classical linear regression, Lasso, Ridge and ElasticNet (use the default parameter of sklearn) and describe how the scores of the features change"
      ]
    },
    {
      "cell_type": "code",
      "metadata": {
        "id": "RRggTqM2MpTQ",
        "colab_type": "code",
        "colab": {
          "base_uri": "https://localhost:8080/",
          "height": 601
        },
        "outputId": "95de5d75-88ab-4674-97fb-59f97c506a9f"
      },
      "source": [
        "from sklearn.linear_model import LinearRegression, Lasso, Ridge, ElasticNet\n",
        "import pandas as pd\n",
        "# CREATE MODEL INSTANCES\n",
        "lr = LinearRegression().fit(X,y)\n",
        "ls = Lasso().fit(X,y)\n",
        "rd = Ridge().fit(X,y)\n",
        "el = ElasticNet().fit(X,y)\n",
        "# PUT YOUR CODE HERE\n",
        "'''print(type(lr.coef_))\n",
        "print(ls.coef_)\n",
        "print(rd.coef_)\n",
        "print(el.coef_)'''\n",
        "lrs=pd.Series(lr.coef_)\n",
        "rds=pd.Series(rd.coef_)\n",
        "els=pd.Series(el.coef_)\n",
        "lss=pd.Series(ls.coef_)\n",
        "coef_total=pd.concat([lrs,lsl,rds,els],axis=1,ignore_index=True)\n",
        "df=coef_total\n",
        "df\n",
        "#pd.concat([el.coef_,rd.coef_], axis=0)"
      ],
      "execution_count": 68,
      "outputs": [
        {
          "output_type": "execute_result",
          "data": {
            "text/html": [
              "<div>\n",
              "<style scoped>\n",
              "    .dataframe tbody tr th:only-of-type {\n",
              "        vertical-align: middle;\n",
              "    }\n",
              "\n",
              "    .dataframe tbody tr th {\n",
              "        vertical-align: top;\n",
              "    }\n",
              "\n",
              "    .dataframe thead th {\n",
              "        text-align: right;\n",
              "    }\n",
              "</style>\n",
              "<table border=\"1\" class=\"dataframe\">\n",
              "  <thead>\n",
              "    <tr style=\"text-align: right;\">\n",
              "      <th></th>\n",
              "      <th>0</th>\n",
              "      <th>1</th>\n",
              "      <th>2</th>\n",
              "      <th>3</th>\n",
              "    </tr>\n",
              "  </thead>\n",
              "  <tbody>\n",
              "    <tr>\n",
              "      <th>0</th>\n",
              "      <td>-0.108066</td>\n",
              "      <td>-0.063437</td>\n",
              "      <td>-0.104690</td>\n",
              "      <td>-0.080371</td>\n",
              "    </tr>\n",
              "    <tr>\n",
              "      <th>1</th>\n",
              "      <td>0.046952</td>\n",
              "      <td>0.049165</td>\n",
              "      <td>0.047887</td>\n",
              "      <td>0.053240</td>\n",
              "    </tr>\n",
              "    <tr>\n",
              "      <th>2</th>\n",
              "      <td>0.021991</td>\n",
              "      <td>-0.000000</td>\n",
              "      <td>-0.006669</td>\n",
              "      <td>-0.012657</td>\n",
              "    </tr>\n",
              "    <tr>\n",
              "      <th>3</th>\n",
              "      <td>2.823562</td>\n",
              "      <td>0.000000</td>\n",
              "      <td>2.670406</td>\n",
              "      <td>0.000000</td>\n",
              "    </tr>\n",
              "    <tr>\n",
              "      <th>4</th>\n",
              "      <td>-17.436529</td>\n",
              "      <td>-0.000000</td>\n",
              "      <td>-10.518862</td>\n",
              "      <td>-0.000000</td>\n",
              "    </tr>\n",
              "    <tr>\n",
              "      <th>5</th>\n",
              "      <td>3.786096</td>\n",
              "      <td>0.949811</td>\n",
              "      <td>3.832313</td>\n",
              "      <td>0.933936</td>\n",
              "    </tr>\n",
              "    <tr>\n",
              "      <th>6</th>\n",
              "      <td>0.001936</td>\n",
              "      <td>0.020910</td>\n",
              "      <td>-0.004126</td>\n",
              "      <td>0.020579</td>\n",
              "    </tr>\n",
              "    <tr>\n",
              "      <th>7</th>\n",
              "      <td>-1.456379</td>\n",
              "      <td>-0.668790</td>\n",
              "      <td>-1.351622</td>\n",
              "      <td>-0.762044</td>\n",
              "    </tr>\n",
              "    <tr>\n",
              "      <th>8</th>\n",
              "      <td>0.307564</td>\n",
              "      <td>0.264206</td>\n",
              "      <td>0.291702</td>\n",
              "      <td>0.301569</td>\n",
              "    </tr>\n",
              "    <tr>\n",
              "      <th>9</th>\n",
              "      <td>-0.012681</td>\n",
              "      <td>-0.015212</td>\n",
              "      <td>-0.013263</td>\n",
              "      <td>-0.016439</td>\n",
              "    </tr>\n",
              "    <tr>\n",
              "      <th>10</th>\n",
              "      <td>-0.925974</td>\n",
              "      <td>-0.722966</td>\n",
              "      <td>-0.849952</td>\n",
              "      <td>-0.748046</td>\n",
              "    </tr>\n",
              "    <tr>\n",
              "      <th>11</th>\n",
              "      <td>0.008863</td>\n",
              "      <td>0.008247</td>\n",
              "      <td>0.009215</td>\n",
              "      <td>0.008339</td>\n",
              "    </tr>\n",
              "    <tr>\n",
              "      <th>12</th>\n",
              "      <td>-0.529925</td>\n",
              "      <td>-0.761115</td>\n",
              "      <td>-0.538117</td>\n",
              "      <td>-0.758426</td>\n",
              "    </tr>\n",
              "    <tr>\n",
              "      <th>13</th>\n",
              "      <td>-1.687832</td>\n",
              "      <td>-0.000000</td>\n",
              "      <td>-1.624738</td>\n",
              "      <td>-0.000000</td>\n",
              "    </tr>\n",
              "    <tr>\n",
              "      <th>14</th>\n",
              "      <td>0.133238</td>\n",
              "      <td>0.000000</td>\n",
              "      <td>0.135991</td>\n",
              "      <td>0.000000</td>\n",
              "    </tr>\n",
              "    <tr>\n",
              "      <th>15</th>\n",
              "      <td>-0.307037</td>\n",
              "      <td>-0.000000</td>\n",
              "      <td>-0.420256</td>\n",
              "      <td>-0.000000</td>\n",
              "    </tr>\n",
              "    <tr>\n",
              "      <th>16</th>\n",
              "      <td>-0.522934</td>\n",
              "      <td>-0.000000</td>\n",
              "      <td>-0.581349</td>\n",
              "      <td>-0.000000</td>\n",
              "    </tr>\n",
              "    <tr>\n",
              "      <th>17</th>\n",
              "      <td>0.707793</td>\n",
              "      <td>0.000000</td>\n",
              "      <td>0.767358</td>\n",
              "      <td>0.000000</td>\n",
              "    </tr>\n",
              "  </tbody>\n",
              "</table>\n",
              "</div>"
            ],
            "text/plain": [
              "            0         1          2         3\n",
              "0   -0.108066 -0.063437  -0.104690 -0.080371\n",
              "1    0.046952  0.049165   0.047887  0.053240\n",
              "2    0.021991 -0.000000  -0.006669 -0.012657\n",
              "3    2.823562  0.000000   2.670406  0.000000\n",
              "4  -17.436529 -0.000000 -10.518862 -0.000000\n",
              "5    3.786096  0.949811   3.832313  0.933936\n",
              "6    0.001936  0.020910  -0.004126  0.020579\n",
              "7   -1.456379 -0.668790  -1.351622 -0.762044\n",
              "8    0.307564  0.264206   0.291702  0.301569\n",
              "9   -0.012681 -0.015212  -0.013263 -0.016439\n",
              "10  -0.925974 -0.722966  -0.849952 -0.748046\n",
              "11   0.008863  0.008247   0.009215  0.008339\n",
              "12  -0.529925 -0.761115  -0.538117 -0.758426\n",
              "13  -1.687832 -0.000000  -1.624738 -0.000000\n",
              "14   0.133238  0.000000   0.135991  0.000000\n",
              "15  -0.307037 -0.000000  -0.420256 -0.000000\n",
              "16  -0.522934 -0.000000  -0.581349 -0.000000\n",
              "17   0.707793  0.000000   0.767358  0.000000"
            ]
          },
          "metadata": {
            "tags": []
          },
          "execution_count": 68
        }
      ]
    },
    {
      "cell_type": "code",
      "metadata": {
        "id": "xEzDt5ElR5B8",
        "colab_type": "code",
        "colab": {
          "base_uri": "https://localhost:8080/",
          "height": 601
        },
        "outputId": "3a6a15b6-45c0-4e65-bebf-bde5f5729c3c"
      },
      "source": [
        "X.columns\n",
        "df['Features']=X.columns\n",
        "df.columns = ['Linear Regression',\t'Lasso',\t'Ridge Regression',\t'Elastic Net','Features']\n",
        "df=df[['Features','Linear Regression',\t'Lasso',\t'Ridge Regression',\t'Elastic Net']]\n",
        "df"
      ],
      "execution_count": 70,
      "outputs": [
        {
          "output_type": "execute_result",
          "data": {
            "text/html": [
              "<div>\n",
              "<style scoped>\n",
              "    .dataframe tbody tr th:only-of-type {\n",
              "        vertical-align: middle;\n",
              "    }\n",
              "\n",
              "    .dataframe tbody tr th {\n",
              "        vertical-align: top;\n",
              "    }\n",
              "\n",
              "    .dataframe thead th {\n",
              "        text-align: right;\n",
              "    }\n",
              "</style>\n",
              "<table border=\"1\" class=\"dataframe\">\n",
              "  <thead>\n",
              "    <tr style=\"text-align: right;\">\n",
              "      <th></th>\n",
              "      <th>Features</th>\n",
              "      <th>Linear Regression</th>\n",
              "      <th>Lasso</th>\n",
              "      <th>Ridge Regression</th>\n",
              "      <th>Elastic Net</th>\n",
              "    </tr>\n",
              "  </thead>\n",
              "  <tbody>\n",
              "    <tr>\n",
              "      <th>0</th>\n",
              "      <td>CRIM</td>\n",
              "      <td>-0.108066</td>\n",
              "      <td>-0.063437</td>\n",
              "      <td>-0.104690</td>\n",
              "      <td>-0.080371</td>\n",
              "    </tr>\n",
              "    <tr>\n",
              "      <th>1</th>\n",
              "      <td>ZN</td>\n",
              "      <td>0.046952</td>\n",
              "      <td>0.049165</td>\n",
              "      <td>0.047887</td>\n",
              "      <td>0.053240</td>\n",
              "    </tr>\n",
              "    <tr>\n",
              "      <th>2</th>\n",
              "      <td>INDUS</td>\n",
              "      <td>0.021991</td>\n",
              "      <td>-0.000000</td>\n",
              "      <td>-0.006669</td>\n",
              "      <td>-0.012657</td>\n",
              "    </tr>\n",
              "    <tr>\n",
              "      <th>3</th>\n",
              "      <td>CHAS</td>\n",
              "      <td>2.823562</td>\n",
              "      <td>0.000000</td>\n",
              "      <td>2.670406</td>\n",
              "      <td>0.000000</td>\n",
              "    </tr>\n",
              "    <tr>\n",
              "      <th>4</th>\n",
              "      <td>NOX</td>\n",
              "      <td>-17.436529</td>\n",
              "      <td>-0.000000</td>\n",
              "      <td>-10.518862</td>\n",
              "      <td>-0.000000</td>\n",
              "    </tr>\n",
              "    <tr>\n",
              "      <th>5</th>\n",
              "      <td>RM</td>\n",
              "      <td>3.786096</td>\n",
              "      <td>0.949811</td>\n",
              "      <td>3.832313</td>\n",
              "      <td>0.933936</td>\n",
              "    </tr>\n",
              "    <tr>\n",
              "      <th>6</th>\n",
              "      <td>AGE</td>\n",
              "      <td>0.001936</td>\n",
              "      <td>0.020910</td>\n",
              "      <td>-0.004126</td>\n",
              "      <td>0.020579</td>\n",
              "    </tr>\n",
              "    <tr>\n",
              "      <th>7</th>\n",
              "      <td>DIS</td>\n",
              "      <td>-1.456379</td>\n",
              "      <td>-0.668790</td>\n",
              "      <td>-1.351622</td>\n",
              "      <td>-0.762044</td>\n",
              "    </tr>\n",
              "    <tr>\n",
              "      <th>8</th>\n",
              "      <td>RAD</td>\n",
              "      <td>0.307564</td>\n",
              "      <td>0.264206</td>\n",
              "      <td>0.291702</td>\n",
              "      <td>0.301569</td>\n",
              "    </tr>\n",
              "    <tr>\n",
              "      <th>9</th>\n",
              "      <td>TAX</td>\n",
              "      <td>-0.012681</td>\n",
              "      <td>-0.015212</td>\n",
              "      <td>-0.013263</td>\n",
              "      <td>-0.016439</td>\n",
              "    </tr>\n",
              "    <tr>\n",
              "      <th>10</th>\n",
              "      <td>PTRATIO</td>\n",
              "      <td>-0.925974</td>\n",
              "      <td>-0.722966</td>\n",
              "      <td>-0.849952</td>\n",
              "      <td>-0.748046</td>\n",
              "    </tr>\n",
              "    <tr>\n",
              "      <th>11</th>\n",
              "      <td>B</td>\n",
              "      <td>0.008863</td>\n",
              "      <td>0.008247</td>\n",
              "      <td>0.009215</td>\n",
              "      <td>0.008339</td>\n",
              "    </tr>\n",
              "    <tr>\n",
              "      <th>12</th>\n",
              "      <td>LSTAT</td>\n",
              "      <td>-0.529925</td>\n",
              "      <td>-0.761115</td>\n",
              "      <td>-0.538117</td>\n",
              "      <td>-0.758426</td>\n",
              "    </tr>\n",
              "    <tr>\n",
              "      <th>13</th>\n",
              "      <td>Noise_1</td>\n",
              "      <td>-1.687832</td>\n",
              "      <td>-0.000000</td>\n",
              "      <td>-1.624738</td>\n",
              "      <td>-0.000000</td>\n",
              "    </tr>\n",
              "    <tr>\n",
              "      <th>14</th>\n",
              "      <td>Noise_2</td>\n",
              "      <td>0.133238</td>\n",
              "      <td>0.000000</td>\n",
              "      <td>0.135991</td>\n",
              "      <td>0.000000</td>\n",
              "    </tr>\n",
              "    <tr>\n",
              "      <th>15</th>\n",
              "      <td>Noise_3</td>\n",
              "      <td>-0.307037</td>\n",
              "      <td>-0.000000</td>\n",
              "      <td>-0.420256</td>\n",
              "      <td>-0.000000</td>\n",
              "    </tr>\n",
              "    <tr>\n",
              "      <th>16</th>\n",
              "      <td>Noise_4</td>\n",
              "      <td>-0.522934</td>\n",
              "      <td>-0.000000</td>\n",
              "      <td>-0.581349</td>\n",
              "      <td>-0.000000</td>\n",
              "    </tr>\n",
              "    <tr>\n",
              "      <th>17</th>\n",
              "      <td>Noise_5</td>\n",
              "      <td>0.707793</td>\n",
              "      <td>0.000000</td>\n",
              "      <td>0.767358</td>\n",
              "      <td>0.000000</td>\n",
              "    </tr>\n",
              "  </tbody>\n",
              "</table>\n",
              "</div>"
            ],
            "text/plain": [
              "   Features  Linear Regression     Lasso  Ridge Regression  Elastic Net\n",
              "0      CRIM          -0.108066 -0.063437         -0.104690    -0.080371\n",
              "1        ZN           0.046952  0.049165          0.047887     0.053240\n",
              "2     INDUS           0.021991 -0.000000         -0.006669    -0.012657\n",
              "3      CHAS           2.823562  0.000000          2.670406     0.000000\n",
              "4       NOX         -17.436529 -0.000000        -10.518862    -0.000000\n",
              "5        RM           3.786096  0.949811          3.832313     0.933936\n",
              "6       AGE           0.001936  0.020910         -0.004126     0.020579\n",
              "7       DIS          -1.456379 -0.668790         -1.351622    -0.762044\n",
              "8       RAD           0.307564  0.264206          0.291702     0.301569\n",
              "9       TAX          -0.012681 -0.015212         -0.013263    -0.016439\n",
              "10  PTRATIO          -0.925974 -0.722966         -0.849952    -0.748046\n",
              "11        B           0.008863  0.008247          0.009215     0.008339\n",
              "12    LSTAT          -0.529925 -0.761115         -0.538117    -0.758426\n",
              "13  Noise_1          -1.687832 -0.000000         -1.624738    -0.000000\n",
              "14  Noise_2           0.133238  0.000000          0.135991     0.000000\n",
              "15  Noise_3          -0.307037 -0.000000         -0.420256    -0.000000\n",
              "16  Noise_4          -0.522934 -0.000000         -0.581349    -0.000000\n",
              "17  Noise_5           0.707793  0.000000          0.767358     0.000000"
            ]
          },
          "metadata": {
            "tags": []
          },
          "execution_count": 70
        }
      ]
    },
    {
      "cell_type": "markdown",
      "metadata": {
        "id": "3HO9ijMWMpTT",
        "colab_type": "text"
      },
      "source": [
        "##### NORMALIZE DATA USING THE ```StandardScaler``` PROVIDED BY sklearn"
      ]
    },
    {
      "cell_type": "code",
      "metadata": {
        "id": "9-eSzh98MpTT",
        "colab_type": "code",
        "colab": {}
      },
      "source": [
        "from sklearn.preprocessing import StandardScaler\n",
        "\n",
        "boston_ss = StandardScaler()\n",
        "X_scaled = boston_ss.fit_transform(X=X)\n",
        "\n",
        "X_train, X_test, y_train, y_test = train_test_split(X_scaled, y, test_size=0.25, random_state=235)\n"
      ],
      "execution_count": 0,
      "outputs": []
    },
    {
      "cell_type": "code",
      "metadata": {
        "id": "MFIqpubmkfyd",
        "colab_type": "code",
        "colab": {
          "base_uri": "https://localhost:8080/",
          "height": 319
        },
        "outputId": "9099156a-4bbb-4198-9303-e76426a994da"
      },
      "source": [
        "fig, ax = plt.subplots()\n",
        "ax.barh(X.columns,df['Linear Regression'])\n",
        "plt.title('Linear Regression')\n",
        "plt.xlabel('Coef')\n",
        "plt.ylabel('Features')"
      ],
      "execution_count": 129,
      "outputs": [
        {
          "output_type": "execute_result",
          "data": {
            "text/plain": [
              "Text(0, 0.5, 'Features')"
            ]
          },
          "metadata": {
            "tags": []
          },
          "execution_count": 129
        },
        {
          "output_type": "display_data",
          "data": {
            "image/png": "[encoded data removed]",
            "text/plain": [
              "<Figure size 432x288 with 1 Axes>"
            ]
          },
          "metadata": {
            "tags": []
          }
        }
      ]
    },
    {
      "cell_type": "code",
      "metadata": {
        "id": "N2W_UNyrhjt0",
        "colab_type": "code",
        "colab": {
          "base_uri": "https://localhost:8080/",
          "height": 319
        },
        "outputId": "3ccd8183-1b0c-4fa1-b694-70136c43b018"
      },
      "source": [
        "fig, ax = plt.subplots()\n",
        "ax.barh(X.columns,df['Lasso'])\n",
        "plt.title('Lasso')\n",
        "plt.xlabel('Coef')\n",
        "plt.ylabel('Features')"
      ],
      "execution_count": 130,
      "outputs": [
        {
          "output_type": "execute_result",
          "data": {
            "text/plain": [
              "Text(0, 0.5, 'Features')"
            ]
          },
          "metadata": {
            "tags": []
          },
          "execution_count": 130
        },
        {
          "output_type": "display_data",
          "data": {
            "image/png": "[encoded data removed]",
            "text/plain": [
              "<Figure size 432x288 with 1 Axes>"
            ]
          },
          "metadata": {
            "tags": []
          }
        }
      ]
    },
    {
      "cell_type": "code",
      "metadata": {
        "id": "x_aoCXOVhlfj",
        "colab_type": "code",
        "colab": {
          "base_uri": "https://localhost:8080/",
          "height": 319
        },
        "outputId": "d1cec7e6-2b8e-4214-893b-3996ad006b90"
      },
      "source": [
        "\n",
        "fig, ax = plt.subplots()\n",
        "ax.barh(X.columns,df['Ridge Regression'])\n",
        "plt.title('Ridge Regression')\n",
        "plt.xlabel('Coef')\n",
        "plt.ylabel('Features')\n"
      ],
      "execution_count": 132,
      "outputs": [
        {
          "output_type": "execute_result",
          "data": {
            "text/plain": [
              "Text(0, 0.5, 'Features')"
            ]
          },
          "metadata": {
            "tags": []
          },
          "execution_count": 132
        },
        {
          "output_type": "display_data",
          "data": {
            "image/png": "[encoded data removed]",
            "text/plain": [
              "<Figure size 432x288 with 1 Axes>"
            ]
          },
          "metadata": {
            "tags": []
          }
        }
      ]
    },
    {
      "cell_type": "code",
      "metadata": {
        "id": "294bohdFhnCV",
        "colab_type": "code",
        "colab": {
          "base_uri": "https://localhost:8080/",
          "height": 319
        },
        "outputId": "d548c768-fc7f-4545-a61e-684909a56eae"
      },
      "source": [
        "\n",
        "fig, ax = plt.subplots()\n",
        "ax.barh(X.columns,df['Elastic Net'])\n",
        "plt.title('Elastic Net')\n",
        "plt.xlabel('Coef')\n",
        "plt.ylabel('Features')"
      ],
      "execution_count": 133,
      "outputs": [
        {
          "output_type": "execute_result",
          "data": {
            "text/plain": [
              "Text(0, 0.5, 'Features')"
            ]
          },
          "metadata": {
            "tags": []
          },
          "execution_count": 133
        },
        {
          "output_type": "display_data",
          "data": {
            "image/png": "[encoded data removed]",
            "text/plain": [
              "<Figure size 432x288 with 1 Axes>"
            ]
          },
          "metadata": {
            "tags": []
          }
        }
      ]
    },
    {
      "cell_type": "code",
      "metadata": {
        "id": "Q4Oq5BnPMpTW",
        "colab_type": "code",
        "colab": {
          "base_uri": "https://localhost:8080/",
          "height": 601
        },
        "outputId": "37ecbfdb-ae29-44a6-a01e-aebec02171fb"
      },
      "source": [
        "df"
      ],
      "execution_count": 114,
      "outputs": [
        {
          "output_type": "execute_result",
          "data": {
            "text/html": [
              "<div>\n",
              "<style scoped>\n",
              "    .dataframe tbody tr th:only-of-type {\n",
              "        vertical-align: middle;\n",
              "    }\n",
              "\n",
              "    .dataframe tbody tr th {\n",
              "        vertical-align: top;\n",
              "    }\n",
              "\n",
              "    .dataframe thead th {\n",
              "        text-align: right;\n",
              "    }\n",
              "</style>\n",
              "<table border=\"1\" class=\"dataframe\">\n",
              "  <thead>\n",
              "    <tr style=\"text-align: right;\">\n",
              "      <th></th>\n",
              "      <th>Features</th>\n",
              "      <th>Linear Regression</th>\n",
              "      <th>Lasso</th>\n",
              "      <th>Ridge Regression</th>\n",
              "      <th>Elastic Net</th>\n",
              "    </tr>\n",
              "  </thead>\n",
              "  <tbody>\n",
              "    <tr>\n",
              "      <th>0</th>\n",
              "      <td>CRIM</td>\n",
              "      <td>-0.108066</td>\n",
              "      <td>-0.063437</td>\n",
              "      <td>-0.104690</td>\n",
              "      <td>-0.080371</td>\n",
              "    </tr>\n",
              "    <tr>\n",
              "      <th>1</th>\n",
              "      <td>ZN</td>\n",
              "      <td>0.046952</td>\n",
              "      <td>0.049165</td>\n",
              "      <td>0.047887</td>\n",
              "      <td>0.053240</td>\n",
              "    </tr>\n",
              "    <tr>\n",
              "      <th>2</th>\n",
              "      <td>INDUS</td>\n",
              "      <td>0.021991</td>\n",
              "      <td>-0.000000</td>\n",
              "      <td>-0.006669</td>\n",
              "      <td>-0.012657</td>\n",
              "    </tr>\n",
              "    <tr>\n",
              "      <th>3</th>\n",
              "      <td>CHAS</td>\n",
              "      <td>2.823562</td>\n",
              "      <td>0.000000</td>\n",
              "      <td>2.670406</td>\n",
              "      <td>0.000000</td>\n",
              "    </tr>\n",
              "    <tr>\n",
              "      <th>4</th>\n",
              "      <td>NOX</td>\n",
              "      <td>-17.436529</td>\n",
              "      <td>-0.000000</td>\n",
              "      <td>-10.518862</td>\n",
              "      <td>-0.000000</td>\n",
              "    </tr>\n",
              "    <tr>\n",
              "      <th>5</th>\n",
              "      <td>RM</td>\n",
              "      <td>3.786096</td>\n",
              "      <td>0.949811</td>\n",
              "      <td>3.832313</td>\n",
              "      <td>0.933936</td>\n",
              "    </tr>\n",
              "    <tr>\n",
              "      <th>6</th>\n",
              "      <td>AGE</td>\n",
              "      <td>0.001936</td>\n",
              "      <td>0.020910</td>\n",
              "      <td>-0.004126</td>\n",
              "      <td>0.020579</td>\n",
              "    </tr>\n",
              "    <tr>\n",
              "      <th>7</th>\n",
              "      <td>DIS</td>\n",
              "      <td>-1.456379</td>\n",
              "      <td>-0.668790</td>\n",
              "      <td>-1.351622</td>\n",
              "      <td>-0.762044</td>\n",
              "    </tr>\n",
              "    <tr>\n",
              "      <th>8</th>\n",
              "      <td>RAD</td>\n",
              "      <td>0.307564</td>\n",
              "      <td>0.264206</td>\n",
              "      <td>0.291702</td>\n",
              "      <td>0.301569</td>\n",
              "    </tr>\n",
              "    <tr>\n",
              "      <th>9</th>\n",
              "      <td>TAX</td>\n",
              "      <td>-0.012681</td>\n",
              "      <td>-0.015212</td>\n",
              "      <td>-0.013263</td>\n",
              "      <td>-0.016439</td>\n",
              "    </tr>\n",
              "    <tr>\n",
              "      <th>10</th>\n",
              "      <td>PTRATIO</td>\n",
              "      <td>-0.925974</td>\n",
              "      <td>-0.722966</td>\n",
              "      <td>-0.849952</td>\n",
              "      <td>-0.748046</td>\n",
              "    </tr>\n",
              "    <tr>\n",
              "      <th>11</th>\n",
              "      <td>B</td>\n",
              "      <td>0.008863</td>\n",
              "      <td>0.008247</td>\n",
              "      <td>0.009215</td>\n",
              "      <td>0.008339</td>\n",
              "    </tr>\n",
              "    <tr>\n",
              "      <th>12</th>\n",
              "      <td>LSTAT</td>\n",
              "      <td>-0.529925</td>\n",
              "      <td>-0.761115</td>\n",
              "      <td>-0.538117</td>\n",
              "      <td>-0.758426</td>\n",
              "    </tr>\n",
              "    <tr>\n",
              "      <th>13</th>\n",
              "      <td>Noise_1</td>\n",
              "      <td>-1.687832</td>\n",
              "      <td>-0.000000</td>\n",
              "      <td>-1.624738</td>\n",
              "      <td>-0.000000</td>\n",
              "    </tr>\n",
              "    <tr>\n",
              "      <th>14</th>\n",
              "      <td>Noise_2</td>\n",
              "      <td>0.133238</td>\n",
              "      <td>0.000000</td>\n",
              "      <td>0.135991</td>\n",
              "      <td>0.000000</td>\n",
              "    </tr>\n",
              "    <tr>\n",
              "      <th>15</th>\n",
              "      <td>Noise_3</td>\n",
              "      <td>-0.307037</td>\n",
              "      <td>-0.000000</td>\n",
              "      <td>-0.420256</td>\n",
              "      <td>-0.000000</td>\n",
              "    </tr>\n",
              "    <tr>\n",
              "      <th>16</th>\n",
              "      <td>Noise_4</td>\n",
              "      <td>-0.522934</td>\n",
              "      <td>-0.000000</td>\n",
              "      <td>-0.581349</td>\n",
              "      <td>-0.000000</td>\n",
              "    </tr>\n",
              "    <tr>\n",
              "      <th>17</th>\n",
              "      <td>Noise_5</td>\n",
              "      <td>0.707793</td>\n",
              "      <td>0.000000</td>\n",
              "      <td>0.767358</td>\n",
              "      <td>0.000000</td>\n",
              "    </tr>\n",
              "  </tbody>\n",
              "</table>\n",
              "</div>"
            ],
            "text/plain": [
              "   Features  Linear Regression     Lasso  Ridge Regression  Elastic Net\n",
              "0      CRIM          -0.108066 -0.063437         -0.104690    -0.080371\n",
              "1        ZN           0.046952  0.049165          0.047887     0.053240\n",
              "2     INDUS           0.021991 -0.000000         -0.006669    -0.012657\n",
              "3      CHAS           2.823562  0.000000          2.670406     0.000000\n",
              "4       NOX         -17.436529 -0.000000        -10.518862    -0.000000\n",
              "5        RM           3.786096  0.949811          3.832313     0.933936\n",
              "6       AGE           0.001936  0.020910         -0.004126     0.020579\n",
              "7       DIS          -1.456379 -0.668790         -1.351622    -0.762044\n",
              "8       RAD           0.307564  0.264206          0.291702     0.301569\n",
              "9       TAX          -0.012681 -0.015212         -0.013263    -0.016439\n",
              "10  PTRATIO          -0.925974 -0.722966         -0.849952    -0.748046\n",
              "11        B           0.008863  0.008247          0.009215     0.008339\n",
              "12    LSTAT          -0.529925 -0.761115         -0.538117    -0.758426\n",
              "13  Noise_1          -1.687832 -0.000000         -1.624738    -0.000000\n",
              "14  Noise_2           0.133238  0.000000          0.135991     0.000000\n",
              "15  Noise_3          -0.307037 -0.000000         -0.420256    -0.000000\n",
              "16  Noise_4          -0.522934 -0.000000         -0.581349    -0.000000\n",
              "17  Noise_5           0.707793  0.000000          0.767358     0.000000"
            ]
          },
          "metadata": {
            "tags": []
          },
          "execution_count": 114
        }
      ]
    },
    {
      "cell_type": "markdown",
      "metadata": {
        "id": "lkcJHFW9MpTY",
        "colab_type": "text"
      },
      "source": [
        "#### Decribe the results"
      ]
    },
    {
      "cell_type": "markdown",
      "metadata": {
        "id": "orYfuxhYMpTY",
        "colab_type": "text"
      },
      "source": [
        "- We can see that linear regression assigned non-zero values to all 5 of our noise features, despite none of them having any predictive power. Interestingly, these noise features have coefficients with magnitudes similar to some of the real features in the dataset.\n",
        "- As we hoped, Lasso did a good job of reducing all 5 of our noise features to 0, as well as many of the real features from the dataset. This is indeed a much simpler model than given by linear regression\n",
        "- Ridge Regression makes a similar mistake that unregularized linear regression, assigning coefficient values to our noise features. We also see some features have very small coefficients.\n",
        "- Much like Lasso, Elastic Net makes the coefficients of several features 0. It however does not make as many coefficients 0 as Lasso does."
      ]
    },
    {
      "cell_type": "markdown",
      "metadata": {
        "id": "WT9ZOBJNMpTZ",
        "colab_type": "text"
      },
      "source": [
        "### Compute the Model Scores"
      ]
    },
    {
      "cell_type": "code",
      "metadata": {
        "id": "qWH00XgFmb2X",
        "colab_type": "code",
        "colab": {
          "base_uri": "https://localhost:8080/",
          "height": 87
        },
        "outputId": "bccd41ad-6562-46cf-fd57-8ab2ed461e8f"
      },
      "source": [
        " from sklearn.metrics import mean_squared_error\n",
        "y_pr=lr.predict(X_test)\n",
        "y_pl=ls.predict(X_test)\n",
        "y_pd=rd.predict(X_test)\n",
        "y_pe=el.predict(X_test)\n",
        "print(\"Mean Squared Error of Linear Regression: \",np.sqrt(mean_squared_error(y_test,y_pr)))\n",
        "print(\"Mean Squared Error of Lasso: \",np.sqrt(mean_squared_error(y_test,y_pl)))\n",
        "print(\"Mean Squared Error of Ridge Regression: \",np.sqrt(mean_squared_error(y_test,y_pd)))\n",
        "print(\"Mean Squared Error of Elastic Net: \",np.sqrt(mean_squared_error(y_test,y_pe)))"
      ],
      "execution_count": 141,
      "outputs": [
        {
          "output_type": "stream",
          "text": [
            "Mean Squared Error of Linear Regression:  20.02340460079092\n",
            "Mean Squared Error of Lasso:  20.660783560382878\n",
            "Mean Squared Error of Ridge Regression:  13.004904587820947\n",
            "Mean Squared Error of Elastic Net:  21.7815355740472\n"
          ],
          "name": "stdout"
        }
      ]
    },
    {
      "cell_type": "markdown",
      "metadata": {
        "id": "_LMznYitMpTc",
        "colab_type": "text"
      },
      "source": [
        "This might seem counter-intuitive, but it is important to remember the ridge regression model traded some variance for bias, which ultimately lead to an overall smaller error. The Lasso and Elastic Net models traded a significant amount of variance for bias, and we see that our error has increased.\n",
        "Interestingly, Lasso and Elastic Net had a higher MSE than Linear Regression. But does that mean that these models are unequivocally worse? I would argue not, as the Lasso and Elastic Net models also performed feature selection, which gives us better interpretability of the models. Coefficients are interpreted as the change in dependent variable with a one unit increase in predictor value, with all other predictors held constant. In the case of complex models, the assumption of holding all other predictors constant cannot reasonably be met."
      ]
    },
    {
      "cell_type": "markdown",
      "metadata": {
        "id": "krJ-1i_VMpTd",
        "colab_type": "text"
      },
      "source": [
        "### Alpha parameter:  Apply Lasso with different values of alpha and describe how the parameters scores change\n",
        "\n",
        "\n",
        "- Complete the function and apply it to the following values: [0, .0001, .5, 10]\n",
        "- Describe the results"
      ]
    },
    {
      "cell_type": "code",
      "metadata": {
        "id": "2c68sCr9MpTd",
        "colab_type": "code",
        "colab": {}
      },
      "source": [
        "names = names = X.columns\n",
        "\n",
        "# Create a function called lasso,\n",
        "def lasso(alphas):\n",
        "    '''\n",
        "    Takes in a list of alphas. Outputs a dataframe containing the coefficients of lasso regressions from each alpha.\n",
        "    '''\n",
        "    # Create an empty data frame\n",
        "    df = pd.DataFrame()\n",
        "    \n",
        "    # Create a column of feature names\n",
        "    df['Feature Name'] = names\n",
        "    \n",
        "    # For each alpha value in the list of alpha values,\n",
        "    for alpha in alphas:\n",
        "        # Create a lasso regression with that alpha value,\n",
        "\n",
        "        # ********************************************************\n",
        "        lasso = Lasso(alpha=alpha)\n",
        "        \n",
        "        # ********************************************************\n",
        "        \n",
        "        # Fit the lasso regression\n",
        "        lasso.fit(X_scaled, y)\n",
        "        \n",
        "        # Create a column name for that alpha value\n",
        "        column_name = 'Alpha = %f' % alpha\n",
        "\n",
        "        # Create a column of coefficient values\n",
        "        df[column_name] = lasso.coef_\n",
        "        \n",
        "    # Return the dataframe  \n",
        "    return df"
      ],
      "execution_count": 0,
      "outputs": []
    },
    {
      "cell_type": "code",
      "metadata": {
        "id": "tmdgbJrjMpTl",
        "colab_type": "code",
        "colab": {
          "base_uri": "https://localhost:8080/",
          "height": 707
        },
        "outputId": "846818f4-b61a-4cbf-ef67-15f8c5d9a2d7"
      },
      "source": [
        "lasso([0, .0001, .5, 10])"
      ],
      "execution_count": 144,
      "outputs": [
        {
          "output_type": "stream",
          "text": [
            "/usr/local/lib/python3.6/dist-packages/ipykernel_launcher.py:24: UserWarning: With alpha=0, this algorithm does not converge well. You are advised to use the LinearRegression estimator\n",
            "/usr/local/lib/python3.6/dist-packages/sklearn/linear_model/coordinate_descent.py:475: UserWarning: Coordinate descent with no regularization may lead to unexpected results and is discouraged.\n",
            "  positive)\n",
            "/usr/local/lib/python3.6/dist-packages/sklearn/linear_model/coordinate_descent.py:475: ConvergenceWarning: Objective did not converge. You might want to increase the number of iterations. Duality gap: 5467.644204204593, tolerance: 4.2716295415019765\n",
            "  positive)\n"
          ],
          "name": "stderr"
        },
        {
          "output_type": "execute_result",
          "data": {
            "text/html": [
              "<div>\n",
              "<style scoped>\n",
              "    .dataframe tbody tr th:only-of-type {\n",
              "        vertical-align: middle;\n",
              "    }\n",
              "\n",
              "    .dataframe tbody tr th {\n",
              "        vertical-align: top;\n",
              "    }\n",
              "\n",
              "    .dataframe thead th {\n",
              "        text-align: right;\n",
              "    }\n",
              "</style>\n",
              "<table border=\"1\" class=\"dataframe\">\n",
              "  <thead>\n",
              "    <tr style=\"text-align: right;\">\n",
              "      <th></th>\n",
              "      <th>Feature Name</th>\n",
              "      <th>Alpha = 0.000000</th>\n",
              "      <th>Alpha = 0.000100</th>\n",
              "      <th>Alpha = 0.500000</th>\n",
              "      <th>Alpha = 10.000000</th>\n",
              "    </tr>\n",
              "  </thead>\n",
              "  <tbody>\n",
              "    <tr>\n",
              "      <th>0</th>\n",
              "      <td>CRIM</td>\n",
              "      <td>-0.928614</td>\n",
              "      <td>-0.928328</td>\n",
              "      <td>-0.115265</td>\n",
              "      <td>-0.0</td>\n",
              "    </tr>\n",
              "    <tr>\n",
              "      <th>1</th>\n",
              "      <td>ZN</td>\n",
              "      <td>1.093956</td>\n",
              "      <td>1.093471</td>\n",
              "      <td>0.000000</td>\n",
              "      <td>0.0</td>\n",
              "    </tr>\n",
              "    <tr>\n",
              "      <th>2</th>\n",
              "      <td>INDUS</td>\n",
              "      <td>0.150717</td>\n",
              "      <td>0.149777</td>\n",
              "      <td>-0.000000</td>\n",
              "      <td>-0.0</td>\n",
              "    </tr>\n",
              "    <tr>\n",
              "      <th>3</th>\n",
              "      <td>CHAS</td>\n",
              "      <td>0.716459</td>\n",
              "      <td>0.716482</td>\n",
              "      <td>0.397079</td>\n",
              "      <td>0.0</td>\n",
              "    </tr>\n",
              "    <tr>\n",
              "      <th>4</th>\n",
              "      <td>NOX</td>\n",
              "      <td>-2.018507</td>\n",
              "      <td>-2.017691</td>\n",
              "      <td>-0.000000</td>\n",
              "      <td>-0.0</td>\n",
              "    </tr>\n",
              "    <tr>\n",
              "      <th>5</th>\n",
              "      <td>RM</td>\n",
              "      <td>2.657546</td>\n",
              "      <td>2.657712</td>\n",
              "      <td>2.974259</td>\n",
              "      <td>0.0</td>\n",
              "    </tr>\n",
              "    <tr>\n",
              "      <th>6</th>\n",
              "      <td>AGE</td>\n",
              "      <td>0.054438</td>\n",
              "      <td>0.053976</td>\n",
              "      <td>-0.000000</td>\n",
              "      <td>-0.0</td>\n",
              "    </tr>\n",
              "    <tr>\n",
              "      <th>7</th>\n",
              "      <td>DIS</td>\n",
              "      <td>-3.063680</td>\n",
              "      <td>-3.063338</td>\n",
              "      <td>-0.170569</td>\n",
              "      <td>0.0</td>\n",
              "    </tr>\n",
              "    <tr>\n",
              "      <th>8</th>\n",
              "      <td>RAD</td>\n",
              "      <td>2.675396</td>\n",
              "      <td>2.673557</td>\n",
              "      <td>-0.000000</td>\n",
              "      <td>-0.0</td>\n",
              "    </tr>\n",
              "    <tr>\n",
              "      <th>9</th>\n",
              "      <td>TAX</td>\n",
              "      <td>-2.135060</td>\n",
              "      <td>-2.133249</td>\n",
              "      <td>-0.000000</td>\n",
              "      <td>-0.0</td>\n",
              "    </tr>\n",
              "    <tr>\n",
              "      <th>10</th>\n",
              "      <td>PTRATIO</td>\n",
              "      <td>-2.002702</td>\n",
              "      <td>-2.002496</td>\n",
              "      <td>-1.598449</td>\n",
              "      <td>-0.0</td>\n",
              "    </tr>\n",
              "    <tr>\n",
              "      <th>11</th>\n",
              "      <td>B</td>\n",
              "      <td>0.808329</td>\n",
              "      <td>0.808251</td>\n",
              "      <td>0.543139</td>\n",
              "      <td>0.0</td>\n",
              "    </tr>\n",
              "    <tr>\n",
              "      <th>12</th>\n",
              "      <td>LSTAT</td>\n",
              "      <td>-3.780482</td>\n",
              "      <td>-3.780270</td>\n",
              "      <td>-3.666144</td>\n",
              "      <td>-0.0</td>\n",
              "    </tr>\n",
              "    <tr>\n",
              "      <th>13</th>\n",
              "      <td>Noise_1</td>\n",
              "      <td>-0.484219</td>\n",
              "      <td>-0.484079</td>\n",
              "      <td>-0.000000</td>\n",
              "      <td>-0.0</td>\n",
              "    </tr>\n",
              "    <tr>\n",
              "      <th>14</th>\n",
              "      <td>Noise_2</td>\n",
              "      <td>0.037973</td>\n",
              "      <td>0.037871</td>\n",
              "      <td>0.000000</td>\n",
              "      <td>-0.0</td>\n",
              "    </tr>\n",
              "    <tr>\n",
              "      <th>15</th>\n",
              "      <td>Noise_3</td>\n",
              "      <td>-0.090590</td>\n",
              "      <td>-0.090535</td>\n",
              "      <td>-0.000000</td>\n",
              "      <td>-0.0</td>\n",
              "    </tr>\n",
              "    <tr>\n",
              "      <th>16</th>\n",
              "      <td>Noise_4</td>\n",
              "      <td>-0.150543</td>\n",
              "      <td>-0.150467</td>\n",
              "      <td>-0.000000</td>\n",
              "      <td>-0.0</td>\n",
              "    </tr>\n",
              "    <tr>\n",
              "      <th>17</th>\n",
              "      <td>Noise_5</td>\n",
              "      <td>0.207521</td>\n",
              "      <td>0.207433</td>\n",
              "      <td>0.000000</td>\n",
              "      <td>0.0</td>\n",
              "    </tr>\n",
              "  </tbody>\n",
              "</table>\n",
              "</div>"
            ],
            "text/plain": [
              "   Feature Name  Alpha = 0.000000  ...  Alpha = 0.500000  Alpha = 10.000000\n",
              "0          CRIM         -0.928614  ...         -0.115265               -0.0\n",
              "1            ZN          1.093956  ...          0.000000                0.0\n",
              "2         INDUS          0.150717  ...         -0.000000               -0.0\n",
              "3          CHAS          0.716459  ...          0.397079                0.0\n",
              "4           NOX         -2.018507  ...         -0.000000               -0.0\n",
              "5            RM          2.657546  ...          2.974259                0.0\n",
              "6           AGE          0.054438  ...         -0.000000               -0.0\n",
              "7           DIS         -3.063680  ...         -0.170569                0.0\n",
              "8           RAD          2.675396  ...         -0.000000               -0.0\n",
              "9           TAX         -2.135060  ...         -0.000000               -0.0\n",
              "10      PTRATIO         -2.002702  ...         -1.598449               -0.0\n",
              "11            B          0.808329  ...          0.543139                0.0\n",
              "12        LSTAT         -3.780482  ...         -3.666144               -0.0\n",
              "13      Noise_1         -0.484219  ...         -0.000000               -0.0\n",
              "14      Noise_2          0.037973  ...          0.000000               -0.0\n",
              "15      Noise_3         -0.090590  ...         -0.000000               -0.0\n",
              "16      Noise_4         -0.150543  ...         -0.000000               -0.0\n",
              "17      Noise_5          0.207521  ...          0.000000                0.0\n",
              "\n",
              "[18 rows x 5 columns]"
            ]
          },
          "metadata": {
            "tags": []
          },
          "execution_count": 144
        }
      ]
    },
    {
      "cell_type": "markdown",
      "metadata": {
        "id": "TmEqouLWMpTr",
        "colab_type": "text"
      },
      "source": [
        "#### Describe the above results"
      ]
    },
    {
      "cell_type": "code",
      "metadata": {
        "id": "u0u7La8LMpTu",
        "colab_type": "code",
        "colab": {}
      },
      "source": [
        "The bigger the alpha, the lower the coeficient."
      ],
      "execution_count": 0,
      "outputs": []
    },
    {
      "cell_type": "code",
      "metadata": {
        "id": "X1uc-8a-MpTz",
        "colab_type": "code",
        "colab": {}
      },
      "source": [
        ""
      ],
      "execution_count": 0,
      "outputs": []
    },
    {
      "cell_type": "markdown",
      "metadata": {
        "id": "ADmJFhYDMpT2",
        "colab_type": "text"
      },
      "source": [
        "### Apply Ridge with different values of alpha and describe how the parameters scores change\n",
        "- Complete the function and apply it to the following values: [0, .0001, .5, 10]\n",
        "- Describe the results"
      ]
    },
    {
      "cell_type": "code",
      "metadata": {
        "id": "JJsGhmU6MpT2",
        "colab_type": "code",
        "colab": {}
      },
      "source": [
        "names = names = X.columns\n",
        "\n",
        "# Create a function called lasso,\n",
        "def ridge(alphas):\n",
        "    '''\n",
        "    Takes in a list of alphas. Outputs a dataframe containing the coefficients of ridge regressions from each alpha.\n",
        "    '''\n",
        "    # Create an empty data frame\n",
        "    df = pd.DataFrame()\n",
        "    \n",
        "    # Create a column of feature names\n",
        "    df['Feature Name'] = names\n",
        "    \n",
        "    # For each alpha value in the list of alpha values,\n",
        "    for alpha in alphas:\n",
        "        # Create a Ridge regression with that alpha value,\n",
        "        \n",
        "        #********************************************************\n",
        "        ridge = Ridge(alpha=alpha)# PUT YOUR CODE HERE  ********************************************************\n",
        "        #********************************************************\n",
        "        \n",
        "        # Fit the lasso regression\n",
        "        ridge.fit(X_scaled, y)\n",
        "        \n",
        "        # Create a column name for that alpha value\n",
        "        column_name = 'Alpha = %f' % alpha\n",
        "\n",
        "        # Create a column of coefficient values\n",
        "        df[column_name] = ridge.coef_\n",
        "        \n",
        "    # Return the dataframe  \n",
        "    return df"
      ],
      "execution_count": 0,
      "outputs": []
    },
    {
      "cell_type": "code",
      "metadata": {
        "id": "Fou066_1MpT5",
        "colab_type": "code",
        "colab": {
          "base_uri": "https://localhost:8080/",
          "height": 601
        },
        "outputId": "fc5a0ab2-1481-441d-8649-76262273e951"
      },
      "source": [
        "ridge([0, .00001, .5, 10])"
      ],
      "execution_count": 146,
      "outputs": [
        {
          "output_type": "execute_result",
          "data": {
            "text/html": [
              "<div>\n",
              "<style scoped>\n",
              "    .dataframe tbody tr th:only-of-type {\n",
              "        vertical-align: middle;\n",
              "    }\n",
              "\n",
              "    .dataframe tbody tr th {\n",
              "        vertical-align: top;\n",
              "    }\n",
              "\n",
              "    .dataframe thead th {\n",
              "        text-align: right;\n",
              "    }\n",
              "</style>\n",
              "<table border=\"1\" class=\"dataframe\">\n",
              "  <thead>\n",
              "    <tr style=\"text-align: right;\">\n",
              "      <th></th>\n",
              "      <th>Feature Name</th>\n",
              "      <th>Alpha = 0.000000</th>\n",
              "      <th>Alpha = 0.000010</th>\n",
              "      <th>Alpha = 0.500000</th>\n",
              "      <th>Alpha = 10.000000</th>\n",
              "    </tr>\n",
              "  </thead>\n",
              "  <tbody>\n",
              "    <tr>\n",
              "      <th>0</th>\n",
              "      <td>CRIM</td>\n",
              "      <td>-0.928614</td>\n",
              "      <td>-0.928613</td>\n",
              "      <td>-0.924488</td>\n",
              "      <td>-0.860676</td>\n",
              "    </tr>\n",
              "    <tr>\n",
              "      <th>1</th>\n",
              "      <td>ZN</td>\n",
              "      <td>1.093956</td>\n",
              "      <td>1.093956</td>\n",
              "      <td>1.086136</td>\n",
              "      <td>0.964418</td>\n",
              "    </tr>\n",
              "    <tr>\n",
              "      <th>2</th>\n",
              "      <td>INDUS</td>\n",
              "      <td>0.150717</td>\n",
              "      <td>0.150717</td>\n",
              "      <td>0.138590</td>\n",
              "      <td>-0.034198</td>\n",
              "    </tr>\n",
              "    <tr>\n",
              "      <th>3</th>\n",
              "      <td>CHAS</td>\n",
              "      <td>0.716459</td>\n",
              "      <td>0.716459</td>\n",
              "      <td>0.717993</td>\n",
              "      <td>0.739067</td>\n",
              "    </tr>\n",
              "    <tr>\n",
              "      <th>4</th>\n",
              "      <td>NOX</td>\n",
              "      <td>-2.018507</td>\n",
              "      <td>-2.018507</td>\n",
              "      <td>-2.004466</td>\n",
              "      <td>-1.773763</td>\n",
              "    </tr>\n",
              "    <tr>\n",
              "      <th>5</th>\n",
              "      <td>RM</td>\n",
              "      <td>2.657546</td>\n",
              "      <td>2.657546</td>\n",
              "      <td>2.662122</td>\n",
              "      <td>2.729888</td>\n",
              "    </tr>\n",
              "    <tr>\n",
              "      <th>6</th>\n",
              "      <td>AGE</td>\n",
              "      <td>0.054438</td>\n",
              "      <td>0.054438</td>\n",
              "      <td>0.051006</td>\n",
              "      <td>-0.001512</td>\n",
              "    </tr>\n",
              "    <tr>\n",
              "      <th>7</th>\n",
              "      <td>DIS</td>\n",
              "      <td>-3.063680</td>\n",
              "      <td>-3.063680</td>\n",
              "      <td>-3.050132</td>\n",
              "      <td>-2.814512</td>\n",
              "    </tr>\n",
              "    <tr>\n",
              "      <th>8</th>\n",
              "      <td>RAD</td>\n",
              "      <td>2.675396</td>\n",
              "      <td>2.675395</td>\n",
              "      <td>2.638997</td>\n",
              "      <td>2.102786</td>\n",
              "    </tr>\n",
              "    <tr>\n",
              "      <th>9</th>\n",
              "      <td>TAX</td>\n",
              "      <td>-2.135060</td>\n",
              "      <td>-2.135059</td>\n",
              "      <td>-2.100757</td>\n",
              "      <td>-1.613535</td>\n",
              "    </tr>\n",
              "    <tr>\n",
              "      <th>10</th>\n",
              "      <td>PTRATIO</td>\n",
              "      <td>-2.002702</td>\n",
              "      <td>-2.002702</td>\n",
              "      <td>-1.998588</td>\n",
              "      <td>-1.930733</td>\n",
              "    </tr>\n",
              "    <tr>\n",
              "      <th>11</th>\n",
              "      <td>B</td>\n",
              "      <td>0.808329</td>\n",
              "      <td>0.808329</td>\n",
              "      <td>0.808277</td>\n",
              "      <td>0.806639</td>\n",
              "    </tr>\n",
              "    <tr>\n",
              "      <th>12</th>\n",
              "      <td>LSTAT</td>\n",
              "      <td>-3.780482</td>\n",
              "      <td>-3.780482</td>\n",
              "      <td>-3.773623</td>\n",
              "      <td>-3.654759</td>\n",
              "    </tr>\n",
              "    <tr>\n",
              "      <th>13</th>\n",
              "      <td>Noise_1</td>\n",
              "      <td>-0.484219</td>\n",
              "      <td>-0.484219</td>\n",
              "      <td>-0.483141</td>\n",
              "      <td>-0.464974</td>\n",
              "    </tr>\n",
              "    <tr>\n",
              "      <th>14</th>\n",
              "      <td>Noise_2</td>\n",
              "      <td>0.037973</td>\n",
              "      <td>0.037973</td>\n",
              "      <td>0.038429</td>\n",
              "      <td>0.046074</td>\n",
              "    </tr>\n",
              "    <tr>\n",
              "      <th>15</th>\n",
              "      <td>Noise_3</td>\n",
              "      <td>-0.090590</td>\n",
              "      <td>-0.090590</td>\n",
              "      <td>-0.091263</td>\n",
              "      <td>-0.102359</td>\n",
              "    </tr>\n",
              "    <tr>\n",
              "      <th>16</th>\n",
              "      <td>Noise_4</td>\n",
              "      <td>-0.150543</td>\n",
              "      <td>-0.150543</td>\n",
              "      <td>-0.151329</td>\n",
              "      <td>-0.164295</td>\n",
              "    </tr>\n",
              "    <tr>\n",
              "      <th>17</th>\n",
              "      <td>Noise_5</td>\n",
              "      <td>0.207521</td>\n",
              "      <td>0.207521</td>\n",
              "      <td>0.207964</td>\n",
              "      <td>0.215646</td>\n",
              "    </tr>\n",
              "  </tbody>\n",
              "</table>\n",
              "</div>"
            ],
            "text/plain": [
              "   Feature Name  Alpha = 0.000000  ...  Alpha = 0.500000  Alpha = 10.000000\n",
              "0          CRIM         -0.928614  ...         -0.924488          -0.860676\n",
              "1            ZN          1.093956  ...          1.086136           0.964418\n",
              "2         INDUS          0.150717  ...          0.138590          -0.034198\n",
              "3          CHAS          0.716459  ...          0.717993           0.739067\n",
              "4           NOX         -2.018507  ...         -2.004466          -1.773763\n",
              "5            RM          2.657546  ...          2.662122           2.729888\n",
              "6           AGE          0.054438  ...          0.051006          -0.001512\n",
              "7           DIS         -3.063680  ...         -3.050132          -2.814512\n",
              "8           RAD          2.675396  ...          2.638997           2.102786\n",
              "9           TAX         -2.135060  ...         -2.100757          -1.613535\n",
              "10      PTRATIO         -2.002702  ...         -1.998588          -1.930733\n",
              "11            B          0.808329  ...          0.808277           0.806639\n",
              "12        LSTAT         -3.780482  ...         -3.773623          -3.654759\n",
              "13      Noise_1         -0.484219  ...         -0.483141          -0.464974\n",
              "14      Noise_2          0.037973  ...          0.038429           0.046074\n",
              "15      Noise_3         -0.090590  ...         -0.091263          -0.102359\n",
              "16      Noise_4         -0.150543  ...         -0.151329          -0.164295\n",
              "17      Noise_5          0.207521  ...          0.207964           0.215646\n",
              "\n",
              "[18 rows x 5 columns]"
            ]
          },
          "metadata": {
            "tags": []
          },
          "execution_count": 146
        }
      ]
    },
    {
      "cell_type": "markdown",
      "metadata": {
        "id": "7GfhysaaMpT7",
        "colab_type": "text"
      },
      "source": [
        "In practice, we will not manually look for the best alpha coefficient. Both in Lasso and ridge regression, the alpha is a hyperparameter. Therefore, we will find the best one via crossvalidation. Fortunately, sklearn has a function that performs CV to find the optimal alpha automatically. "
      ]
    },
    {
      "cell_type": "code",
      "metadata": {
        "id": "JsXsojebMpT9",
        "colab_type": "code",
        "colab": {
          "base_uri": "https://localhost:8080/",
          "height": 35
        },
        "outputId": "ae6c6fe3-bfe2-4ef1-9c68-dc827d21d9ee"
      },
      "source": [
        "from sklearn.linear_model import LassoCV\n",
        "\n",
        "reg = LassoCV(max_iter = 5000, cv = 20, normalize=True).fit(X_train, y_train)\n",
        "reg.alpha_"
      ],
      "execution_count": 147,
      "outputs": [
        {
          "output_type": "execute_result",
          "data": {
            "text/plain": [
              "0.004105992010849185"
            ]
          },
          "metadata": {
            "tags": []
          },
          "execution_count": 147
        }
      ]
    },
    {
      "cell_type": "code",
      "metadata": {
        "id": "LNryxTneMpUH",
        "colab_type": "code",
        "colab": {}
      },
      "source": [
        ""
      ],
      "execution_count": 0,
      "outputs": []
    }
  ]
}